{
 "cells": [
  {
   "cell_type": "markdown",
   "metadata": {},
   "source": [
    "This notebook will illustrate how to process DICOM series using python. The two libraries should be installed:\n",
    "1. opencv-python;\n",
    "2. pydicom\n",
    "\n",
    "anaconda show menpo/opencv3\n",
    "conda install --channel https://conda.anaconda.org/menpo opencv3 #如果通过pip install和conda install同时安装有可能导致冲突\n",
    "conda install -c conda-forge pydicom=0.9.9"
   ]
  },
  {
   "cell_type": "code",
   "execution_count": 4,
   "metadata": {
    "collapsed": false
   },
   "outputs": [],
   "source": [
    "import cv2\n",
    "import numpy as np\n",
    "import matplotlib.pyplot as plt\n",
    "import dicom as pdicom\n",
    "import os\n",
    "import glob\n",
    "\n",
    "%matplotlib inline\n"
   ]
  },
  {
   "cell_type": "code",
   "execution_count": 6,
   "metadata": {
    "collapsed": true
   },
   "outputs": [],
   "source": [
    "import pandas as pd\n",
    "import scipy.ndimage\n",
    "from skimage import measure, morphology\n",
    "from mpl_toolkits.mplot3d.art3d import Poly3DCollection"
   ]
  },
  {
   "cell_type": "code",
   "execution_count": 13,
   "metadata": {
    "collapsed": false
   },
   "outputs": [],
   "source": [
    "Dicom_folder = \"C:\\Personal\\Medical_Deep_Learning\\lung-data\\肺部小结节薄层CT数据\"\n",
    "patients = os.listdir(Dicom_folder)\n",
    "patients.sort()"
   ]
  },
  {
   "cell_type": "code",
   "execution_count": 12,
   "metadata": {
    "collapsed": false,
    "scrolled": false
   },
   "outputs": [],
   "source": [
    "lstFilesDCM = []\n",
    "def load_dcm(path):\n",
    "    for dirname, subdirlist, filelist in os.walk(path):\n",
    "        for filename in filelist:\n",
    "            if \".dcm\" in filename.lower():\n",
    "                lstFilesDCM.append(os.path.join(dirname, filename))\n",
    "    return lstFilesDCM\n",
    "\n",
    "patient_dcms=load_dcm(Dicom_folder)\n"
   ]
  },
  {
   "cell_type": "code",
   "execution_count": 22,
   "metadata": {
    "collapsed": false
   },
   "outputs": [
    {
     "data": {
      "text/plain": [
       "(512, 512)"
      ]
     },
     "execution_count": 22,
     "metadata": {},
     "output_type": "execute_result"
    }
   ],
   "source": [
    "dcmdata = pdicom.read_file(patient_dcms[395])\n",
    "pixeldimens = (dcmdata.Rows, dcmdata.Columns, len(patient_dcms))\n",
    "pixelspacing = (float(dcmdata.PixelSpacing[0]), float(dcmdata.PixelSpacing[1]), float(dcmdata.SliceThickness))\n",
    "dcmdata.pixel_array.shape"
   ]
  },
  {
   "cell_type": "code",
   "execution_count": 21,
   "metadata": {
    "collapsed": false
   },
   "outputs": [
    {
     "data": {
      "text/plain": [
       "(512, 512, 28959)"
      ]
     },
     "execution_count": 21,
     "metadata": {},
     "output_type": "execute_result"
    }
   ],
   "source": [
    "arraydicom = np.zeros(pixeldimens, dcmdata.pixel_array.dtype)\n"
   ]
  }
 ],
 "metadata": {
  "anaconda-cloud": {},
  "kernelspec": {
   "display_name": "Python [conda root]",
   "language": "python",
   "name": "conda-root-py"
  },
  "language_info": {
   "codemirror_mode": {
    "name": "ipython",
    "version": 3
   },
   "file_extension": ".py",
   "mimetype": "text/x-python",
   "name": "python",
   "nbconvert_exporter": "python",
   "pygments_lexer": "ipython3",
   "version": "3.5.2"
  }
 },
 "nbformat": 4,
 "nbformat_minor": 1
}
